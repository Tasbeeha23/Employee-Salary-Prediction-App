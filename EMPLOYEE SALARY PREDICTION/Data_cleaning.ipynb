{
 "cells": [
  {
   "cell_type": "markdown",
   "id": "27718e66",
   "metadata": {},
   "source": [
    "*CAPSTONE PROJECT*\n",
    "\n",
    "**EMPLOYEE SALARY PREDICTION** using\n",
    "   1. Linear Regression\n",
    "   2. Support Vector Recognition\n",
    "   3. Random Forest Regression    \n",
    "\n",
    "*DEPLOYMENT - Streamlit*"
   ]
  },
  {
   "cell_type": "code",
   "execution_count": 1,
   "id": "8fdc2dff",
   "metadata": {},
   "outputs": [
    {
     "name": "stdout",
     "output_type": "stream",
     "text": [
      "     Employee_ID  Age  Gender   Department      Job_Title  Years_at_Company  \\\n",
      "0              0   27    Male    Marketing        Manager                 9   \n",
      "1              1   53  Female        Sales       Engineer                10   \n",
      "2              2   59  Female    Marketing        Analyst                 8   \n",
      "3              3   42  Female  Engineering        Manager                 1   \n",
      "4              4   44  Female        Sales       Engineer                10   \n",
      "..           ...  ...     ...          ...            ...               ...   \n",
      "995          995   39  Female           HR  HR Specialist                 3   \n",
      "996          996   50    Male  Engineering        Manager                 1   \n",
      "997          997   52    Male  Engineering        Analyst                 3   \n",
      "998          998   37  Female           HR  HR Specialist                 2   \n",
      "999          999   59    Male        Sales  HR Specialist                 1   \n",
      "\n",
      "     Satisfaction_Level  Average_Monthly_Hours  Promotion_Last_5Years  Salary  \\\n",
      "0              0.586251                    151                      0   60132   \n",
      "1              0.261161                    221                      1   79947   \n",
      "2              0.304382                    184                      0   46958   \n",
      "3              0.480779                    242                      0   40662   \n",
      "4              0.636244                    229                      1   74307   \n",
      "..                  ...                    ...                    ...     ...   \n",
      "995            0.377435                    239                      0   71403   \n",
      "996            0.431152                    154                      0   30181   \n",
      "997            0.647102                    206                      0   64143   \n",
      "998            0.304813                    241                      0   74383   \n",
      "999            0.940510                    159                      0   73220   \n",
      "\n",
      "     Attrition  \n",
      "0            0  \n",
      "1            0  \n",
      "2            1  \n",
      "3            0  \n",
      "4            0  \n",
      "..         ...  \n",
      "995          0  \n",
      "996          1  \n",
      "997          0  \n",
      "998          1  \n",
      "999          1  \n",
      "\n",
      "[1000 rows x 11 columns]\n"
     ]
    }
   ],
   "source": [
    "import pandas as pd\n",
    "\n",
    "data = pd.read_csv(r\"C:\\Users\\91990\\Downloads\\employee_attrition_data.csv\")\n",
    "\n",
    "df = pd.DataFrame(data)\n",
    "print(df)"
   ]
  },
  {
   "cell_type": "code",
   "execution_count": 2,
   "id": "b80a7f3c",
   "metadata": {},
   "outputs": [
    {
     "data": {
      "text/html": [
       "<div>\n",
       "<style scoped>\n",
       "    .dataframe tbody tr th:only-of-type {\n",
       "        vertical-align: middle;\n",
       "    }\n",
       "\n",
       "    .dataframe tbody tr th {\n",
       "        vertical-align: top;\n",
       "    }\n",
       "\n",
       "    .dataframe thead th {\n",
       "        text-align: right;\n",
       "    }\n",
       "</style>\n",
       "<table border=\"1\" class=\"dataframe\">\n",
       "  <thead>\n",
       "    <tr style=\"text-align: right;\">\n",
       "      <th></th>\n",
       "      <th>Employee_ID</th>\n",
       "      <th>Age</th>\n",
       "      <th>Gender</th>\n",
       "      <th>Department</th>\n",
       "      <th>Job_Title</th>\n",
       "      <th>Years_at_Company</th>\n",
       "      <th>Satisfaction_Level</th>\n",
       "      <th>Average_Monthly_Hours</th>\n",
       "      <th>Promotion_Last_5Years</th>\n",
       "      <th>Salary</th>\n",
       "      <th>Attrition</th>\n",
       "    </tr>\n",
       "  </thead>\n",
       "  <tbody>\n",
       "    <tr>\n",
       "      <th>0</th>\n",
       "      <td>0</td>\n",
       "      <td>27</td>\n",
       "      <td>Male</td>\n",
       "      <td>Marketing</td>\n",
       "      <td>Manager</td>\n",
       "      <td>9</td>\n",
       "      <td>0.586251</td>\n",
       "      <td>151</td>\n",
       "      <td>0</td>\n",
       "      <td>60132</td>\n",
       "      <td>0</td>\n",
       "    </tr>\n",
       "    <tr>\n",
       "      <th>1</th>\n",
       "      <td>1</td>\n",
       "      <td>53</td>\n",
       "      <td>Female</td>\n",
       "      <td>Sales</td>\n",
       "      <td>Engineer</td>\n",
       "      <td>10</td>\n",
       "      <td>0.261161</td>\n",
       "      <td>221</td>\n",
       "      <td>1</td>\n",
       "      <td>79947</td>\n",
       "      <td>0</td>\n",
       "    </tr>\n",
       "    <tr>\n",
       "      <th>2</th>\n",
       "      <td>2</td>\n",
       "      <td>59</td>\n",
       "      <td>Female</td>\n",
       "      <td>Marketing</td>\n",
       "      <td>Analyst</td>\n",
       "      <td>8</td>\n",
       "      <td>0.304382</td>\n",
       "      <td>184</td>\n",
       "      <td>0</td>\n",
       "      <td>46958</td>\n",
       "      <td>1</td>\n",
       "    </tr>\n",
       "    <tr>\n",
       "      <th>3</th>\n",
       "      <td>3</td>\n",
       "      <td>42</td>\n",
       "      <td>Female</td>\n",
       "      <td>Engineering</td>\n",
       "      <td>Manager</td>\n",
       "      <td>1</td>\n",
       "      <td>0.480779</td>\n",
       "      <td>242</td>\n",
       "      <td>0</td>\n",
       "      <td>40662</td>\n",
       "      <td>0</td>\n",
       "    </tr>\n",
       "    <tr>\n",
       "      <th>4</th>\n",
       "      <td>4</td>\n",
       "      <td>44</td>\n",
       "      <td>Female</td>\n",
       "      <td>Sales</td>\n",
       "      <td>Engineer</td>\n",
       "      <td>10</td>\n",
       "      <td>0.636244</td>\n",
       "      <td>229</td>\n",
       "      <td>1</td>\n",
       "      <td>74307</td>\n",
       "      <td>0</td>\n",
       "    </tr>\n",
       "  </tbody>\n",
       "</table>\n",
       "</div>"
      ],
      "text/plain": [
       "   Employee_ID  Age  Gender   Department Job_Title  Years_at_Company  \\\n",
       "0            0   27    Male    Marketing   Manager                 9   \n",
       "1            1   53  Female        Sales  Engineer                10   \n",
       "2            2   59  Female    Marketing   Analyst                 8   \n",
       "3            3   42  Female  Engineering   Manager                 1   \n",
       "4            4   44  Female        Sales  Engineer                10   \n",
       "\n",
       "   Satisfaction_Level  Average_Monthly_Hours  Promotion_Last_5Years  Salary  \\\n",
       "0            0.586251                    151                      0   60132   \n",
       "1            0.261161                    221                      1   79947   \n",
       "2            0.304382                    184                      0   46958   \n",
       "3            0.480779                    242                      0   40662   \n",
       "4            0.636244                    229                      1   74307   \n",
       "\n",
       "   Attrition  \n",
       "0          0  \n",
       "1          0  \n",
       "2          1  \n",
       "3          0  \n",
       "4          0  "
      ]
     },
     "execution_count": 2,
     "metadata": {},
     "output_type": "execute_result"
    }
   ],
   "source": [
    "df.head()"
   ]
  },
  {
   "cell_type": "code",
   "execution_count": 3,
   "id": "1ef434b6",
   "metadata": {},
   "outputs": [
    {
     "data": {
      "text/html": [
       "<div>\n",
       "<style scoped>\n",
       "    .dataframe tbody tr th:only-of-type {\n",
       "        vertical-align: middle;\n",
       "    }\n",
       "\n",
       "    .dataframe tbody tr th {\n",
       "        vertical-align: top;\n",
       "    }\n",
       "\n",
       "    .dataframe thead th {\n",
       "        text-align: right;\n",
       "    }\n",
       "</style>\n",
       "<table border=\"1\" class=\"dataframe\">\n",
       "  <thead>\n",
       "    <tr style=\"text-align: right;\">\n",
       "      <th></th>\n",
       "      <th>Employee_ID</th>\n",
       "      <th>Age</th>\n",
       "      <th>Gender</th>\n",
       "      <th>Department</th>\n",
       "      <th>Job_Title</th>\n",
       "      <th>Years_at_Company</th>\n",
       "      <th>Satisfaction_Level</th>\n",
       "      <th>Average_Monthly_Hours</th>\n",
       "      <th>Promotion_Last_5Years</th>\n",
       "      <th>Salary</th>\n",
       "      <th>Attrition</th>\n",
       "    </tr>\n",
       "  </thead>\n",
       "  <tbody>\n",
       "    <tr>\n",
       "      <th>995</th>\n",
       "      <td>995</td>\n",
       "      <td>39</td>\n",
       "      <td>Female</td>\n",
       "      <td>HR</td>\n",
       "      <td>HR Specialist</td>\n",
       "      <td>3</td>\n",
       "      <td>0.377435</td>\n",
       "      <td>239</td>\n",
       "      <td>0</td>\n",
       "      <td>71403</td>\n",
       "      <td>0</td>\n",
       "    </tr>\n",
       "    <tr>\n",
       "      <th>996</th>\n",
       "      <td>996</td>\n",
       "      <td>50</td>\n",
       "      <td>Male</td>\n",
       "      <td>Engineering</td>\n",
       "      <td>Manager</td>\n",
       "      <td>1</td>\n",
       "      <td>0.431152</td>\n",
       "      <td>154</td>\n",
       "      <td>0</td>\n",
       "      <td>30181</td>\n",
       "      <td>1</td>\n",
       "    </tr>\n",
       "    <tr>\n",
       "      <th>997</th>\n",
       "      <td>997</td>\n",
       "      <td>52</td>\n",
       "      <td>Male</td>\n",
       "      <td>Engineering</td>\n",
       "      <td>Analyst</td>\n",
       "      <td>3</td>\n",
       "      <td>0.647102</td>\n",
       "      <td>206</td>\n",
       "      <td>0</td>\n",
       "      <td>64143</td>\n",
       "      <td>0</td>\n",
       "    </tr>\n",
       "    <tr>\n",
       "      <th>998</th>\n",
       "      <td>998</td>\n",
       "      <td>37</td>\n",
       "      <td>Female</td>\n",
       "      <td>HR</td>\n",
       "      <td>HR Specialist</td>\n",
       "      <td>2</td>\n",
       "      <td>0.304813</td>\n",
       "      <td>241</td>\n",
       "      <td>0</td>\n",
       "      <td>74383</td>\n",
       "      <td>1</td>\n",
       "    </tr>\n",
       "    <tr>\n",
       "      <th>999</th>\n",
       "      <td>999</td>\n",
       "      <td>59</td>\n",
       "      <td>Male</td>\n",
       "      <td>Sales</td>\n",
       "      <td>HR Specialist</td>\n",
       "      <td>1</td>\n",
       "      <td>0.940510</td>\n",
       "      <td>159</td>\n",
       "      <td>0</td>\n",
       "      <td>73220</td>\n",
       "      <td>1</td>\n",
       "    </tr>\n",
       "  </tbody>\n",
       "</table>\n",
       "</div>"
      ],
      "text/plain": [
       "     Employee_ID  Age  Gender   Department      Job_Title  Years_at_Company  \\\n",
       "995          995   39  Female           HR  HR Specialist                 3   \n",
       "996          996   50    Male  Engineering        Manager                 1   \n",
       "997          997   52    Male  Engineering        Analyst                 3   \n",
       "998          998   37  Female           HR  HR Specialist                 2   \n",
       "999          999   59    Male        Sales  HR Specialist                 1   \n",
       "\n",
       "     Satisfaction_Level  Average_Monthly_Hours  Promotion_Last_5Years  Salary  \\\n",
       "995            0.377435                    239                      0   71403   \n",
       "996            0.431152                    154                      0   30181   \n",
       "997            0.647102                    206                      0   64143   \n",
       "998            0.304813                    241                      0   74383   \n",
       "999            0.940510                    159                      0   73220   \n",
       "\n",
       "     Attrition  \n",
       "995          0  \n",
       "996          1  \n",
       "997          0  \n",
       "998          1  \n",
       "999          1  "
      ]
     },
     "execution_count": 3,
     "metadata": {},
     "output_type": "execute_result"
    }
   ],
   "source": [
    "df.tail()"
   ]
  },
  {
   "cell_type": "code",
   "execution_count": 4,
   "id": "d2d4a05f",
   "metadata": {},
   "outputs": [
    {
     "data": {
      "text/plain": [
       "Index(['Employee_ID', 'Age', 'Gender', 'Department', 'Job_Title',\n",
       "       'Years_at_Company', 'Satisfaction_Level', 'Average_Monthly_Hours',\n",
       "       'Promotion_Last_5Years', 'Salary', 'Attrition'],\n",
       "      dtype='object')"
      ]
     },
     "execution_count": 4,
     "metadata": {},
     "output_type": "execute_result"
    }
   ],
   "source": [
    "df.columns"
   ]
  },
  {
   "cell_type": "code",
   "execution_count": 5,
   "id": "b579b4a1",
   "metadata": {},
   "outputs": [
    {
     "data": {
      "text/plain": [
       "<bound method DataFrame.info of      Employee_ID  Age  Gender   Department      Job_Title  Years_at_Company  \\\n",
       "0              0   27    Male    Marketing        Manager                 9   \n",
       "1              1   53  Female        Sales       Engineer                10   \n",
       "2              2   59  Female    Marketing        Analyst                 8   \n",
       "3              3   42  Female  Engineering        Manager                 1   \n",
       "4              4   44  Female        Sales       Engineer                10   \n",
       "..           ...  ...     ...          ...            ...               ...   \n",
       "995          995   39  Female           HR  HR Specialist                 3   \n",
       "996          996   50    Male  Engineering        Manager                 1   \n",
       "997          997   52    Male  Engineering        Analyst                 3   \n",
       "998          998   37  Female           HR  HR Specialist                 2   \n",
       "999          999   59    Male        Sales  HR Specialist                 1   \n",
       "\n",
       "     Satisfaction_Level  Average_Monthly_Hours  Promotion_Last_5Years  Salary  \\\n",
       "0              0.586251                    151                      0   60132   \n",
       "1              0.261161                    221                      1   79947   \n",
       "2              0.304382                    184                      0   46958   \n",
       "3              0.480779                    242                      0   40662   \n",
       "4              0.636244                    229                      1   74307   \n",
       "..                  ...                    ...                    ...     ...   \n",
       "995            0.377435                    239                      0   71403   \n",
       "996            0.431152                    154                      0   30181   \n",
       "997            0.647102                    206                      0   64143   \n",
       "998            0.304813                    241                      0   74383   \n",
       "999            0.940510                    159                      0   73220   \n",
       "\n",
       "     Attrition  \n",
       "0            0  \n",
       "1            0  \n",
       "2            1  \n",
       "3            0  \n",
       "4            0  \n",
       "..         ...  \n",
       "995          0  \n",
       "996          1  \n",
       "997          0  \n",
       "998          1  \n",
       "999          1  \n",
       "\n",
       "[1000 rows x 11 columns]>"
      ]
     },
     "execution_count": 5,
     "metadata": {},
     "output_type": "execute_result"
    }
   ],
   "source": [
    "df.info"
   ]
  },
  {
   "cell_type": "code",
   "execution_count": 6,
   "id": "e0648acb",
   "metadata": {},
   "outputs": [
    {
     "data": {
      "text/html": [
       "<div>\n",
       "<style scoped>\n",
       "    .dataframe tbody tr th:only-of-type {\n",
       "        vertical-align: middle;\n",
       "    }\n",
       "\n",
       "    .dataframe tbody tr th {\n",
       "        vertical-align: top;\n",
       "    }\n",
       "\n",
       "    .dataframe thead th {\n",
       "        text-align: right;\n",
       "    }\n",
       "</style>\n",
       "<table border=\"1\" class=\"dataframe\">\n",
       "  <thead>\n",
       "    <tr style=\"text-align: right;\">\n",
       "      <th></th>\n",
       "      <th>Employee_ID</th>\n",
       "      <th>Age</th>\n",
       "      <th>Gender</th>\n",
       "      <th>Department</th>\n",
       "      <th>Job_Title</th>\n",
       "      <th>Years_at_Company</th>\n",
       "      <th>Satisfaction_Level</th>\n",
       "      <th>Average_Monthly_Hours</th>\n",
       "      <th>Promotion_Last_5Years</th>\n",
       "      <th>Salary</th>\n",
       "      <th>Attrition</th>\n",
       "    </tr>\n",
       "  </thead>\n",
       "  <tbody>\n",
       "    <tr>\n",
       "      <th>0</th>\n",
       "      <td>False</td>\n",
       "      <td>False</td>\n",
       "      <td>False</td>\n",
       "      <td>False</td>\n",
       "      <td>False</td>\n",
       "      <td>False</td>\n",
       "      <td>False</td>\n",
       "      <td>False</td>\n",
       "      <td>False</td>\n",
       "      <td>False</td>\n",
       "      <td>False</td>\n",
       "    </tr>\n",
       "    <tr>\n",
       "      <th>1</th>\n",
       "      <td>False</td>\n",
       "      <td>False</td>\n",
       "      <td>False</td>\n",
       "      <td>False</td>\n",
       "      <td>False</td>\n",
       "      <td>False</td>\n",
       "      <td>False</td>\n",
       "      <td>False</td>\n",
       "      <td>False</td>\n",
       "      <td>False</td>\n",
       "      <td>False</td>\n",
       "    </tr>\n",
       "    <tr>\n",
       "      <th>2</th>\n",
       "      <td>False</td>\n",
       "      <td>False</td>\n",
       "      <td>False</td>\n",
       "      <td>False</td>\n",
       "      <td>False</td>\n",
       "      <td>False</td>\n",
       "      <td>False</td>\n",
       "      <td>False</td>\n",
       "      <td>False</td>\n",
       "      <td>False</td>\n",
       "      <td>False</td>\n",
       "    </tr>\n",
       "    <tr>\n",
       "      <th>3</th>\n",
       "      <td>False</td>\n",
       "      <td>False</td>\n",
       "      <td>False</td>\n",
       "      <td>False</td>\n",
       "      <td>False</td>\n",
       "      <td>False</td>\n",
       "      <td>False</td>\n",
       "      <td>False</td>\n",
       "      <td>False</td>\n",
       "      <td>False</td>\n",
       "      <td>False</td>\n",
       "    </tr>\n",
       "    <tr>\n",
       "      <th>4</th>\n",
       "      <td>False</td>\n",
       "      <td>False</td>\n",
       "      <td>False</td>\n",
       "      <td>False</td>\n",
       "      <td>False</td>\n",
       "      <td>False</td>\n",
       "      <td>False</td>\n",
       "      <td>False</td>\n",
       "      <td>False</td>\n",
       "      <td>False</td>\n",
       "      <td>False</td>\n",
       "    </tr>\n",
       "    <tr>\n",
       "      <th>...</th>\n",
       "      <td>...</td>\n",
       "      <td>...</td>\n",
       "      <td>...</td>\n",
       "      <td>...</td>\n",
       "      <td>...</td>\n",
       "      <td>...</td>\n",
       "      <td>...</td>\n",
       "      <td>...</td>\n",
       "      <td>...</td>\n",
       "      <td>...</td>\n",
       "      <td>...</td>\n",
       "    </tr>\n",
       "    <tr>\n",
       "      <th>995</th>\n",
       "      <td>False</td>\n",
       "      <td>False</td>\n",
       "      <td>False</td>\n",
       "      <td>False</td>\n",
       "      <td>False</td>\n",
       "      <td>False</td>\n",
       "      <td>False</td>\n",
       "      <td>False</td>\n",
       "      <td>False</td>\n",
       "      <td>False</td>\n",
       "      <td>False</td>\n",
       "    </tr>\n",
       "    <tr>\n",
       "      <th>996</th>\n",
       "      <td>False</td>\n",
       "      <td>False</td>\n",
       "      <td>False</td>\n",
       "      <td>False</td>\n",
       "      <td>False</td>\n",
       "      <td>False</td>\n",
       "      <td>False</td>\n",
       "      <td>False</td>\n",
       "      <td>False</td>\n",
       "      <td>False</td>\n",
       "      <td>False</td>\n",
       "    </tr>\n",
       "    <tr>\n",
       "      <th>997</th>\n",
       "      <td>False</td>\n",
       "      <td>False</td>\n",
       "      <td>False</td>\n",
       "      <td>False</td>\n",
       "      <td>False</td>\n",
       "      <td>False</td>\n",
       "      <td>False</td>\n",
       "      <td>False</td>\n",
       "      <td>False</td>\n",
       "      <td>False</td>\n",
       "      <td>False</td>\n",
       "    </tr>\n",
       "    <tr>\n",
       "      <th>998</th>\n",
       "      <td>False</td>\n",
       "      <td>False</td>\n",
       "      <td>False</td>\n",
       "      <td>False</td>\n",
       "      <td>False</td>\n",
       "      <td>False</td>\n",
       "      <td>False</td>\n",
       "      <td>False</td>\n",
       "      <td>False</td>\n",
       "      <td>False</td>\n",
       "      <td>False</td>\n",
       "    </tr>\n",
       "    <tr>\n",
       "      <th>999</th>\n",
       "      <td>False</td>\n",
       "      <td>False</td>\n",
       "      <td>False</td>\n",
       "      <td>False</td>\n",
       "      <td>False</td>\n",
       "      <td>False</td>\n",
       "      <td>False</td>\n",
       "      <td>False</td>\n",
       "      <td>False</td>\n",
       "      <td>False</td>\n",
       "      <td>False</td>\n",
       "    </tr>\n",
       "  </tbody>\n",
       "</table>\n",
       "<p>1000 rows × 11 columns</p>\n",
       "</div>"
      ],
      "text/plain": [
       "     Employee_ID    Age  Gender  Department  Job_Title  Years_at_Company  \\\n",
       "0          False  False   False       False      False             False   \n",
       "1          False  False   False       False      False             False   \n",
       "2          False  False   False       False      False             False   \n",
       "3          False  False   False       False      False             False   \n",
       "4          False  False   False       False      False             False   \n",
       "..           ...    ...     ...         ...        ...               ...   \n",
       "995        False  False   False       False      False             False   \n",
       "996        False  False   False       False      False             False   \n",
       "997        False  False   False       False      False             False   \n",
       "998        False  False   False       False      False             False   \n",
       "999        False  False   False       False      False             False   \n",
       "\n",
       "     Satisfaction_Level  Average_Monthly_Hours  Promotion_Last_5Years  Salary  \\\n",
       "0                 False                  False                  False   False   \n",
       "1                 False                  False                  False   False   \n",
       "2                 False                  False                  False   False   \n",
       "3                 False                  False                  False   False   \n",
       "4                 False                  False                  False   False   \n",
       "..                  ...                    ...                    ...     ...   \n",
       "995               False                  False                  False   False   \n",
       "996               False                  False                  False   False   \n",
       "997               False                  False                  False   False   \n",
       "998               False                  False                  False   False   \n",
       "999               False                  False                  False   False   \n",
       "\n",
       "     Attrition  \n",
       "0        False  \n",
       "1        False  \n",
       "2        False  \n",
       "3        False  \n",
       "4        False  \n",
       "..         ...  \n",
       "995      False  \n",
       "996      False  \n",
       "997      False  \n",
       "998      False  \n",
       "999      False  \n",
       "\n",
       "[1000 rows x 11 columns]"
      ]
     },
     "execution_count": 6,
     "metadata": {},
     "output_type": "execute_result"
    }
   ],
   "source": [
    "df.isna()"
   ]
  },
  {
   "cell_type": "code",
   "execution_count": 7,
   "id": "b0d6cc84",
   "metadata": {},
   "outputs": [
    {
     "data": {
      "text/plain": [
       "Employee_ID              0\n",
       "Age                      0\n",
       "Gender                   0\n",
       "Department               0\n",
       "Job_Title                0\n",
       "Years_at_Company         0\n",
       "Satisfaction_Level       0\n",
       "Average_Monthly_Hours    0\n",
       "Promotion_Last_5Years    0\n",
       "Salary                   0\n",
       "Attrition                0\n",
       "dtype: int64"
      ]
     },
     "execution_count": 7,
     "metadata": {},
     "output_type": "execute_result"
    }
   ],
   "source": [
    "df.isna().sum()"
   ]
  },
  {
   "cell_type": "code",
   "execution_count": 8,
   "id": "b03d7700",
   "metadata": {},
   "outputs": [
    {
     "data": {
      "text/plain": [
       "0      False\n",
       "1      False\n",
       "2      False\n",
       "3      False\n",
       "4      False\n",
       "       ...  \n",
       "995    False\n",
       "996    False\n",
       "997    False\n",
       "998    False\n",
       "999    False\n",
       "Length: 1000, dtype: bool"
      ]
     },
     "execution_count": 8,
     "metadata": {},
     "output_type": "execute_result"
    }
   ],
   "source": [
    "df.duplicated()"
   ]
  },
  {
   "cell_type": "code",
   "execution_count": 9,
   "id": "4eb41398",
   "metadata": {},
   "outputs": [
    {
     "data": {
      "text/plain": [
       "0"
      ]
     },
     "execution_count": 9,
     "metadata": {},
     "output_type": "execute_result"
    }
   ],
   "source": [
    "df.duplicated().sum()"
   ]
  },
  {
   "cell_type": "code",
   "execution_count": 10,
   "id": "7c23ff1d",
   "metadata": {},
   "outputs": [],
   "source": [
    "df.drop(columns=['Employee_ID'], inplace=True)"
   ]
  },
  {
   "cell_type": "code",
   "execution_count": 11,
   "id": "830fe99c",
   "metadata": {},
   "outputs": [
    {
     "name": "stdout",
     "output_type": "stream",
     "text": [
      "Requirement already satisfied: matplotlib in c:\\users\\91990\\anaconda3\\lib\\site-packages (3.7.1)\n",
      "Requirement already satisfied: contourpy>=1.0.1 in c:\\users\\91990\\anaconda3\\lib\\site-packages (from matplotlib) (1.0.5)\n",
      "Requirement already satisfied: cycler>=0.10 in c:\\users\\91990\\anaconda3\\lib\\site-packages (from matplotlib) (0.11.0)\n",
      "Requirement already satisfied: fonttools>=4.22.0 in c:\\users\\91990\\anaconda3\\lib\\site-packages (from matplotlib) (4.25.0)\n",
      "Requirement already satisfied: kiwisolver>=1.0.1 in c:\\users\\91990\\anaconda3\\lib\\site-packages (from matplotlib) (1.4.4)\n",
      "Requirement already satisfied: numpy>=1.20 in c:\\users\\91990\\anaconda3\\lib\\site-packages (from matplotlib) (1.24.3)\n",
      "Requirement already satisfied: packaging>=20.0 in c:\\users\\91990\\anaconda3\\lib\\site-packages (from matplotlib) (23.0)\n",
      "Requirement already satisfied: pillow>=6.2.0 in c:\\users\\91990\\anaconda3\\lib\\site-packages (from matplotlib) (9.4.0)\n",
      "Requirement already satisfied: pyparsing>=2.3.1 in c:\\users\\91990\\anaconda3\\lib\\site-packages (from matplotlib) (3.0.9)\n",
      "Requirement already satisfied: python-dateutil>=2.7 in c:\\users\\91990\\anaconda3\\lib\\site-packages (from matplotlib) (2.8.2)\n",
      "Requirement already satisfied: six>=1.5 in c:\\users\\91990\\anaconda3\\lib\\site-packages (from python-dateutil>=2.7->matplotlib) (1.16.0)\n"
     ]
    }
   ],
   "source": [
    "!pip install matplotlib"
   ]
  },
  {
   "cell_type": "code",
   "execution_count": 12,
   "id": "35167132",
   "metadata": {},
   "outputs": [],
   "source": [
    "import matplotlib.pyplot as plt"
   ]
  },
  {
   "cell_type": "code",
   "execution_count": 13,
   "id": "be2be13d",
   "metadata": {},
   "outputs": [
    {
     "name": "stdout",
     "output_type": "stream",
     "text": [
      "Male      506\n",
      "Female    494\n",
      "Name: Gender, dtype: int64\n"
     ]
    },
    {
     "data": {
      "image/png": "[encoded data removed]",
      "text/plain": [
       "<Figure size 640x480 with 1 Axes>"
      ]
     },
     "metadata": {},
     "output_type": "display_data"
    }
   ],
   "source": [
    "print(df['Gender'].value_counts())\n",
    "df['Gender'].value_counts().plot(kind='pie', label=True)\n",
    "plt.ylabel('')\n",
    "plt.title('Gender Count of Employees')\n",
    "plt.show()"
   ]
  },
  {
   "cell_type": "code",
   "execution_count": 14,
   "id": "5ad1c6cd",
   "metadata": {},
   "outputs": [
    {
     "name": "stdout",
     "output_type": "stream",
     "text": [
      "Engineer         214\n",
      "Manager          206\n",
      "Accountant       206\n",
      "Analyst          195\n",
      "HR Specialist    179\n",
      "Name: Job_Title, dtype: int64\n"
     ]
    },
    {
     "data": {
      "image/png": "[encoded data removed]",
      "text/plain": [
       "<Figure size 640x480 with 1 Axes>"
      ]
     },
     "metadata": {},
     "output_type": "display_data"
    }
   ],
   "source": [
    "print(df['Job_Title'].value_counts())\n",
    "df['Job_Title'].value_counts().plot(kind='bar')\n",
    "plt.ylabel('')\n",
    "plt.title('Job_Title Count of Employees')\n",
    "plt.show()"
   ]
  },
  {
   "cell_type": "code",
   "execution_count": 15,
   "id": "dad6b154",
   "metadata": {},
   "outputs": [
    {
     "data": {
      "image/png": "[encoded data removed]",
      "text/plain": [
       "<Figure size 640x480 with 1 Axes>"
      ]
     },
     "metadata": {},
     "output_type": "display_data"
    }
   ],
   "source": [
    "df.groupby('Job_Title')['Salary'].mean().sort_values(ascending=False).plot(kind='line')\n",
    "plt.title('Average Salary by Job Title')\n",
    "plt.xlabel('Job Title')\n",
    "plt.ylabel('Average Salary')\n",
    "plt.show()"
   ]
  },
  {
   "cell_type": "code",
   "execution_count": 16,
   "id": "00c55c45",
   "metadata": {},
   "outputs": [
    {
     "data": {
      "text/html": [
       "<div>\n",
       "<style scoped>\n",
       "    .dataframe tbody tr th:only-of-type {\n",
       "        vertical-align: middle;\n",
       "    }\n",
       "\n",
       "    .dataframe tbody tr th {\n",
       "        vertical-align: top;\n",
       "    }\n",
       "\n",
       "    .dataframe thead th {\n",
       "        text-align: right;\n",
       "    }\n",
       "</style>\n",
       "<table border=\"1\" class=\"dataframe\">\n",
       "  <thead>\n",
       "    <tr style=\"text-align: right;\">\n",
       "      <th></th>\n",
       "      <th>Department</th>\n",
       "      <th>Promotion_Last_5Years</th>\n",
       "      <th>Salary</th>\n",
       "    </tr>\n",
       "  </thead>\n",
       "  <tbody>\n",
       "    <tr>\n",
       "      <th>0</th>\n",
       "      <td>Engineering</td>\n",
       "      <td>0</td>\n",
       "      <td>65541.063636</td>\n",
       "    </tr>\n",
       "    <tr>\n",
       "      <th>1</th>\n",
       "      <td>Engineering</td>\n",
       "      <td>1</td>\n",
       "      <td>62424.127660</td>\n",
       "    </tr>\n",
       "    <tr>\n",
       "      <th>2</th>\n",
       "      <td>Finance</td>\n",
       "      <td>0</td>\n",
       "      <td>63390.145299</td>\n",
       "    </tr>\n",
       "    <tr>\n",
       "      <th>3</th>\n",
       "      <td>Finance</td>\n",
       "      <td>1</td>\n",
       "      <td>62041.269663</td>\n",
       "    </tr>\n",
       "    <tr>\n",
       "      <th>4</th>\n",
       "      <td>HR</td>\n",
       "      <td>0</td>\n",
       "      <td>63012.556701</td>\n",
       "    </tr>\n",
       "    <tr>\n",
       "      <th>5</th>\n",
       "      <td>HR</td>\n",
       "      <td>1</td>\n",
       "      <td>65882.861702</td>\n",
       "    </tr>\n",
       "    <tr>\n",
       "      <th>6</th>\n",
       "      <td>Marketing</td>\n",
       "      <td>0</td>\n",
       "      <td>65251.597826</td>\n",
       "    </tr>\n",
       "    <tr>\n",
       "      <th>7</th>\n",
       "      <td>Marketing</td>\n",
       "      <td>1</td>\n",
       "      <td>66018.632653</td>\n",
       "    </tr>\n",
       "    <tr>\n",
       "      <th>8</th>\n",
       "      <td>Sales</td>\n",
       "      <td>0</td>\n",
       "      <td>64295.846939</td>\n",
       "    </tr>\n",
       "    <tr>\n",
       "      <th>9</th>\n",
       "      <td>Sales</td>\n",
       "      <td>1</td>\n",
       "      <td>67838.756757</td>\n",
       "    </tr>\n",
       "  </tbody>\n",
       "</table>\n",
       "</div>"
      ],
      "text/plain": [
       "    Department  Promotion_Last_5Years        Salary\n",
       "0  Engineering                      0  65541.063636\n",
       "1  Engineering                      1  62424.127660\n",
       "2      Finance                      0  63390.145299\n",
       "3      Finance                      1  62041.269663\n",
       "4           HR                      0  63012.556701\n",
       "5           HR                      1  65882.861702\n",
       "6    Marketing                      0  65251.597826\n",
       "7    Marketing                      1  66018.632653\n",
       "8        Sales                      0  64295.846939\n",
       "9        Sales                      1  67838.756757"
      ]
     },
     "execution_count": 16,
     "metadata": {},
     "output_type": "execute_result"
    }
   ],
   "source": [
    "df.groupby(['Department', 'Promotion_Last_5Years'])['Salary'].mean().reset_index()"
   ]
  },
  {
   "cell_type": "code",
   "execution_count": 17,
   "id": "4b4a2132",
   "metadata": {},
   "outputs": [
    {
     "data": {
      "text/html": [
       "<div>\n",
       "<style scoped>\n",
       "    .dataframe tbody tr th:only-of-type {\n",
       "        vertical-align: middle;\n",
       "    }\n",
       "\n",
       "    .dataframe tbody tr th {\n",
       "        vertical-align: top;\n",
       "    }\n",
       "\n",
       "    .dataframe thead th {\n",
       "        text-align: right;\n",
       "    }\n",
       "</style>\n",
       "<table border=\"1\" class=\"dataframe\">\n",
       "  <thead>\n",
       "    <tr style=\"text-align: right;\">\n",
       "      <th></th>\n",
       "      <th>Age</th>\n",
       "      <th>Gender</th>\n",
       "      <th>Department</th>\n",
       "      <th>Job_Title</th>\n",
       "      <th>Years_at_Company</th>\n",
       "      <th>Satisfaction_Level</th>\n",
       "      <th>Average_Monthly_Hours</th>\n",
       "      <th>Promotion_Last_5Years</th>\n",
       "      <th>Salary</th>\n",
       "      <th>Attrition</th>\n",
       "    </tr>\n",
       "  </thead>\n",
       "  <tbody>\n",
       "    <tr>\n",
       "      <th>0</th>\n",
       "      <td>27</td>\n",
       "      <td>Male</td>\n",
       "      <td>Marketing</td>\n",
       "      <td>Manager</td>\n",
       "      <td>9</td>\n",
       "      <td>0.586251</td>\n",
       "      <td>151</td>\n",
       "      <td>0</td>\n",
       "      <td>60132</td>\n",
       "      <td>0</td>\n",
       "    </tr>\n",
       "    <tr>\n",
       "      <th>1</th>\n",
       "      <td>53</td>\n",
       "      <td>Female</td>\n",
       "      <td>Sales</td>\n",
       "      <td>Engineer</td>\n",
       "      <td>10</td>\n",
       "      <td>0.261161</td>\n",
       "      <td>221</td>\n",
       "      <td>1</td>\n",
       "      <td>79947</td>\n",
       "      <td>0</td>\n",
       "    </tr>\n",
       "    <tr>\n",
       "      <th>2</th>\n",
       "      <td>59</td>\n",
       "      <td>Female</td>\n",
       "      <td>Marketing</td>\n",
       "      <td>Analyst</td>\n",
       "      <td>8</td>\n",
       "      <td>0.304382</td>\n",
       "      <td>184</td>\n",
       "      <td>0</td>\n",
       "      <td>46958</td>\n",
       "      <td>1</td>\n",
       "    </tr>\n",
       "    <tr>\n",
       "      <th>3</th>\n",
       "      <td>42</td>\n",
       "      <td>Female</td>\n",
       "      <td>Engineering</td>\n",
       "      <td>Manager</td>\n",
       "      <td>1</td>\n",
       "      <td>0.480779</td>\n",
       "      <td>242</td>\n",
       "      <td>0</td>\n",
       "      <td>40662</td>\n",
       "      <td>0</td>\n",
       "    </tr>\n",
       "    <tr>\n",
       "      <th>4</th>\n",
       "      <td>44</td>\n",
       "      <td>Female</td>\n",
       "      <td>Sales</td>\n",
       "      <td>Engineer</td>\n",
       "      <td>10</td>\n",
       "      <td>0.636244</td>\n",
       "      <td>229</td>\n",
       "      <td>1</td>\n",
       "      <td>74307</td>\n",
       "      <td>0</td>\n",
       "    </tr>\n",
       "  </tbody>\n",
       "</table>\n",
       "</div>"
      ],
      "text/plain": [
       "   Age  Gender   Department Job_Title  Years_at_Company  Satisfaction_Level  \\\n",
       "0   27    Male    Marketing   Manager                 9            0.586251   \n",
       "1   53  Female        Sales  Engineer                10            0.261161   \n",
       "2   59  Female    Marketing   Analyst                 8            0.304382   \n",
       "3   42  Female  Engineering   Manager                 1            0.480779   \n",
       "4   44  Female        Sales  Engineer                10            0.636244   \n",
       "\n",
       "   Average_Monthly_Hours  Promotion_Last_5Years  Salary  Attrition  \n",
       "0                    151                      0   60132          0  \n",
       "1                    221                      1   79947          0  \n",
       "2                    184                      0   46958          1  \n",
       "3                    242                      0   40662          0  \n",
       "4                    229                      1   74307          0  "
      ]
     },
     "execution_count": 17,
     "metadata": {},
     "output_type": "execute_result"
    }
   ],
   "source": [
    "df.head()"
   ]
  },
  {
   "cell_type": "code",
   "execution_count": 18,
   "id": "1bd65e1c",
   "metadata": {},
   "outputs": [],
   "source": [
    "X = df[['Years_at_Company', 'Satisfaction_Level', 'Average_Monthly_Hours']]\n",
    "y = df['Salary']"
   ]
  },
  {
   "cell_type": "code",
   "execution_count": 19,
   "id": "894ca982",
   "metadata": {},
   "outputs": [
    {
     "name": "stdout",
     "output_type": "stream",
     "text": [
      "Requirement already satisfied: scikit-learn in c:\\users\\91990\\anaconda3\\lib\\site-packages (1.2.2)\n",
      "Requirement already satisfied: numpy>=1.17.3 in c:\\users\\91990\\anaconda3\\lib\\site-packages (from scikit-learn) (1.24.3)\n",
      "Requirement already satisfied: scipy>=1.3.2 in c:\\users\\91990\\anaconda3\\lib\\site-packages (from scikit-learn) (1.10.1)\n",
      "Requirement already satisfied: joblib>=1.1.1 in c:\\users\\91990\\anaconda3\\lib\\site-packages (from scikit-learn) (1.2.0)\n",
      "Requirement already satisfied: threadpoolctl>=2.0.0 in c:\\users\\91990\\anaconda3\\lib\\site-packages (from scikit-learn) (2.2.0)\n"
     ]
    }
   ],
   "source": [
    "!pip install scikit-learn"
   ]
  },
  {
   "cell_type": "code",
   "execution_count": 20,
   "id": "8d6944a4",
   "metadata": {},
   "outputs": [],
   "source": [
    "from sklearn.model_selection import train_test_split\n",
    "X_train, X_test, y_train, y_test = train_test_split(X,y,test_size=0.2)"
   ]
  },
  {
   "cell_type": "code",
   "execution_count": 21,
   "id": "1211e257",
   "metadata": {},
   "outputs": [
    {
     "data": {
      "text/html": [
       "<div>\n",
       "<style scoped>\n",
       "    .dataframe tbody tr th:only-of-type {\n",
       "        vertical-align: middle;\n",
       "    }\n",
       "\n",
       "    .dataframe tbody tr th {\n",
       "        vertical-align: top;\n",
       "    }\n",
       "\n",
       "    .dataframe thead th {\n",
       "        text-align: right;\n",
       "    }\n",
       "</style>\n",
       "<table border=\"1\" class=\"dataframe\">\n",
       "  <thead>\n",
       "    <tr style=\"text-align: right;\">\n",
       "      <th></th>\n",
       "      <th>Years_at_Company</th>\n",
       "      <th>Satisfaction_Level</th>\n",
       "      <th>Average_Monthly_Hours</th>\n",
       "    </tr>\n",
       "  </thead>\n",
       "  <tbody>\n",
       "    <tr>\n",
       "      <th>0</th>\n",
       "      <td>9</td>\n",
       "      <td>0.586251</td>\n",
       "      <td>151</td>\n",
       "    </tr>\n",
       "    <tr>\n",
       "      <th>1</th>\n",
       "      <td>10</td>\n",
       "      <td>0.261161</td>\n",
       "      <td>221</td>\n",
       "    </tr>\n",
       "    <tr>\n",
       "      <th>2</th>\n",
       "      <td>8</td>\n",
       "      <td>0.304382</td>\n",
       "      <td>184</td>\n",
       "    </tr>\n",
       "    <tr>\n",
       "      <th>3</th>\n",
       "      <td>1</td>\n",
       "      <td>0.480779</td>\n",
       "      <td>242</td>\n",
       "    </tr>\n",
       "    <tr>\n",
       "      <th>4</th>\n",
       "      <td>10</td>\n",
       "      <td>0.636244</td>\n",
       "      <td>229</td>\n",
       "    </tr>\n",
       "    <tr>\n",
       "      <th>...</th>\n",
       "      <td>...</td>\n",
       "      <td>...</td>\n",
       "      <td>...</td>\n",
       "    </tr>\n",
       "    <tr>\n",
       "      <th>995</th>\n",
       "      <td>3</td>\n",
       "      <td>0.377435</td>\n",
       "      <td>239</td>\n",
       "    </tr>\n",
       "    <tr>\n",
       "      <th>996</th>\n",
       "      <td>1</td>\n",
       "      <td>0.431152</td>\n",
       "      <td>154</td>\n",
       "    </tr>\n",
       "    <tr>\n",
       "      <th>997</th>\n",
       "      <td>3</td>\n",
       "      <td>0.647102</td>\n",
       "      <td>206</td>\n",
       "    </tr>\n",
       "    <tr>\n",
       "      <th>998</th>\n",
       "      <td>2</td>\n",
       "      <td>0.304813</td>\n",
       "      <td>241</td>\n",
       "    </tr>\n",
       "    <tr>\n",
       "      <th>999</th>\n",
       "      <td>1</td>\n",
       "      <td>0.940510</td>\n",
       "      <td>159</td>\n",
       "    </tr>\n",
       "  </tbody>\n",
       "</table>\n",
       "<p>1000 rows × 3 columns</p>\n",
       "</div>"
      ],
      "text/plain": [
       "     Years_at_Company  Satisfaction_Level  Average_Monthly_Hours\n",
       "0                   9            0.586251                    151\n",
       "1                  10            0.261161                    221\n",
       "2                   8            0.304382                    184\n",
       "3                   1            0.480779                    242\n",
       "4                  10            0.636244                    229\n",
       "..                ...                 ...                    ...\n",
       "995                 3            0.377435                    239\n",
       "996                 1            0.431152                    154\n",
       "997                 3            0.647102                    206\n",
       "998                 2            0.304813                    241\n",
       "999                 1            0.940510                    159\n",
       "\n",
       "[1000 rows x 3 columns]"
      ]
     },
     "execution_count": 21,
     "metadata": {},
     "output_type": "execute_result"
    }
   ],
   "source": [
    "X"
   ]
  },
  {
   "cell_type": "code",
   "execution_count": 22,
   "id": "6b36b52a",
   "metadata": {},
   "outputs": [
    {
     "data": {
      "text/plain": [
       "0      60132\n",
       "1      79947\n",
       "2      46958\n",
       "3      40662\n",
       "4      74307\n",
       "       ...  \n",
       "995    71403\n",
       "996    30181\n",
       "997    64143\n",
       "998    74383\n",
       "999    73220\n",
       "Name: Salary, Length: 1000, dtype: int64"
      ]
     },
     "execution_count": 22,
     "metadata": {},
     "output_type": "execute_result"
    }
   ],
   "source": [
    "y"
   ]
  },
  {
   "cell_type": "code",
   "execution_count": 23,
   "id": "406285b3",
   "metadata": {},
   "outputs": [],
   "source": [
    "from sklearn.preprocessing import StandardScaler\n",
    "scaler = StandardScaler()\n",
    "X_train = scaler.fit_transform(X_train)"
   ]
  },
  {
   "cell_type": "code",
   "execution_count": 24,
   "id": "c7280861",
   "metadata": {},
   "outputs": [
    {
     "data": {
      "text/plain": [
       "array([[ 1.57448093,  0.60265299, -1.0835081 ],\n",
       "       [ 1.57448093,  0.25244317,  0.57386567],\n",
       "       [-1.2520767 , -1.51606781,  1.52093639],\n",
       "       ...,\n",
       "       [-0.54543729,  0.85224853,  1.28416871],\n",
       "       [-0.54543729, -1.13580639, -1.62469137],\n",
       "       [ 0.51452182, -0.15667392,  0.50621776]])"
      ]
     },
     "execution_count": 24,
     "metadata": {},
     "output_type": "execute_result"
    }
   ],
   "source": [
    "X_train"
   ]
  },
  {
   "cell_type": "code",
   "execution_count": 25,
   "id": "7c730a39",
   "metadata": {},
   "outputs": [
    {
     "data": {
      "text/plain": [
       "['scaler.pkl']"
      ]
     },
     "execution_count": 25,
     "metadata": {},
     "output_type": "execute_result"
    }
   ],
   "source": [
    "import joblib \n",
    "joblib.dump(scaler, 'scaler.pkl')"
   ]
  },
  {
   "cell_type": "code",
   "execution_count": 26,
   "id": "023c8e77",
   "metadata": {},
   "outputs": [
    {
     "data": {
      "text/plain": [
       "array([[-1.75151897e+00,  2.44485515e-01,  8.62731114e-01],\n",
       "       [-6.68105176e-01, -1.20647840e+00,  1.36685915e+00],\n",
       "       [ 1.49872242e+00,  1.26293434e+00, -7.84087141e-01],\n",
       "       [-6.68105176e-01,  1.51607223e+00,  1.23242501e+00],\n",
       "       [-6.68105176e-01,  7.90833152e-01, -1.10908168e-02],\n",
       "       [-3.06967243e-01, -1.27539015e+00,  4.93037220e-01],\n",
       "       [-1.39038104e+00, -4.90471891e-01,  6.94688435e-01],\n",
       "       [-6.68105176e-01,  6.26260583e-01, -3.80784711e-01],\n",
       "       [ 5.41706899e-02,  8.19477950e-01,  3.24994541e-01],\n",
       "       [-1.39038104e+00,  1.17589900e+00,  1.03077379e+00],\n",
       "       [ 4.15308623e-01, -8.28870184e-01,  9.63556722e-01],\n",
       "       [ 4.15308623e-01,  3.65683875e-01, -1.25460664e+00],\n",
       "       [ 5.41706899e-02,  1.52839579e+00,  1.46768476e+00],\n",
       "       [ 5.41706899e-02,  8.50282114e-01, -9.85738356e-01],\n",
       "       [-1.39038104e+00,  5.99693090e-01, -1.72512614e+00],\n",
       "       [-1.39038104e+00, -5.60601395e-01, -4.48001782e-01],\n",
       "       [ 1.13758449e+00,  1.32722488e+00, -1.45625786e+00],\n",
       "       [-1.39038104e+00, -1.12310569e+00,  9.63556722e-01],\n",
       "       [-6.68105176e-01, -4.73481209e-01,  3.24994541e-01],\n",
       "       [ 7.76446555e-01, -3.55870351e-01, -1.35543225e+00],\n",
       "       [ 1.13758449e+00,  6.89885628e-01,  2.25177190e-02],\n",
       "       [-1.39038104e+00, -1.38309596e+00, -1.38904079e+00],\n",
       "       [-1.75151897e+00, -5.42142461e-01,  8.62731114e-01],\n",
       "       [ 1.13758449e+00, -1.04798258e+00, -1.22099811e+00],\n",
       "       [-1.02924311e+00, -4.66636504e-01,  3.58603077e-01],\n",
       "       [-6.68105176e-01, -1.07448916e+00,  1.56951862e-01],\n",
       "       [-3.06967243e-01, -1.54399680e+00,  9.29948186e-01],\n",
       "       [ 4.15308623e-01, -9.46680461e-01, -1.62430054e+00],\n",
       "       [-1.39038104e+00, -6.39269567e-01,  5.26645756e-01],\n",
       "       [-3.06967243e-01,  1.60353457e-01,  5.60254292e-01],\n",
       "       [ 1.49872242e+00, -1.64325582e-01, -8.51304212e-01],\n",
       "       [ 1.13758449e+00, -1.29288219e+00,  1.36685915e+00],\n",
       "       [ 5.41706899e-02,  1.19167956e+00, -3.13567639e-01],\n",
       "       [-3.06967243e-01,  5.83487324e-01,  1.40046769e+00],\n",
       "       [-1.02924311e+00,  1.55203849e-01, -3.47176175e-01],\n",
       "       [-6.68105176e-01,  4.84201680e-01, -4.46993526e-02],\n",
       "       [ 5.41706899e-02, -1.72683423e+00,  1.09799087e+00],\n",
       "       [-6.68105176e-01,  6.67910705e-02, -5.15218854e-01],\n",
       "       [-1.75151897e+00,  1.42556342e+00,  3.24994541e-01],\n",
       "       [ 1.49872242e+00, -1.73836248e+00, -1.48986639e+00],\n",
       "       [ 4.15308623e-01, -1.03290300e+00,  1.60211890e+00],\n",
       "       [-3.06967243e-01, -7.10872496e-01, -2.12742032e-01],\n",
       "       [ 5.41706899e-02,  9.47274337e-02,  1.13159940e+00],\n",
       "       [ 7.76446555e-01, -1.15730040e+00, -1.55708346e+00],\n",
       "       [-3.06967243e-01, -6.09016476e-01,  7.95514043e-01],\n",
       "       [-1.75151897e+00,  1.47212038e+00,  1.23343326e-01],\n",
       "       [-6.68105176e-01,  1.54896164e+00,  2.24168934e-01],\n",
       "       [-1.75151897e+00, -1.06465738e+00,  5.60254292e-01],\n",
       "       [ 5.41706899e-02, -5.26719647e-01, -9.18521284e-01],\n",
       "       [ 7.76446555e-01, -6.67007363e-01, -1.72512614e+00],\n",
       "       [ 1.49872242e+00, -1.42491991e-01,  2.25177190e-02],\n",
       "       [ 1.13758449e+00, -1.39589294e+00,  1.09799087e+00],\n",
       "       [ 7.76446555e-01, -8.75106118e-01,  6.27471364e-01],\n",
       "       [ 5.41706899e-02,  2.31429619e-01,  8.96339650e-01],\n",
       "       [ 7.76446555e-01,  2.54760354e-01,  3.24994541e-01],\n",
       "       [ 7.76446555e-01, -7.31430736e-01, -5.82435926e-01],\n",
       "       [ 7.76446555e-01, -9.50083226e-01,  7.28296971e-01],\n",
       "       [-3.06967243e-01,  1.43592917e+00,  1.23242501e+00],\n",
       "       [-1.02924311e+00, -5.47667948e-01,  1.40046769e+00],\n",
       "       [ 7.76446555e-01,  6.21072847e-01, -1.28821518e+00],\n",
       "       [-6.68105176e-01,  8.26553295e-01,  1.56851037e+00],\n",
       "       [ 1.49872242e+00,  4.19153565e-01, -9.85738356e-01],\n",
       "       [-6.68105176e-01,  1.42812192e+00,  9.29948186e-01],\n",
       "       [-6.68105176e-01,  4.58795255e-01,  1.43407622e+00],\n",
       "       [ 4.15308623e-01,  1.40637941e+00,  1.40046769e+00],\n",
       "       [-1.02924311e+00,  3.00080569e-01, -2.46350568e-01],\n",
       "       [ 5.41706899e-02,  1.17226168e+00, -6.49652997e-01],\n",
       "       [-6.68105176e-01, -6.78114656e-01,  9.29948186e-01],\n",
       "       [-1.75151897e+00,  5.32902480e-01, -1.35543225e+00],\n",
       "       [ 4.15308623e-01, -6.37287490e-01,  1.33325062e+00],\n",
       "       [ 5.41706899e-02,  1.17753218e+00, -1.65790907e+00],\n",
       "       [ 1.49872242e+00, -1.41528024e+00,  3.24994541e-01],\n",
       "       [-1.75151897e+00, -8.24440241e-01, -5.15218854e-01],\n",
       "       [ 1.13758449e+00, -1.33735863e+00,  4.25820149e-01],\n",
       "       [ 1.13758449e+00,  1.16077802e+00, -4.48001782e-01],\n",
       "       [ 4.15308623e-01,  1.09041018e+00, -1.65790907e+00],\n",
       "       [-1.02924311e+00,  1.46618749e+00,  7.95514043e-01],\n",
       "       [ 1.13758449e+00, -1.30201321e+00, -1.48986639e+00],\n",
       "       [ 7.76446555e-01, -1.29493105e-01,  4.25820149e-01],\n",
       "       [ 1.49872242e+00, -1.18038527e+00, -2.12742032e-01],\n",
       "       [ 4.15308623e-01,  1.45885576e+00,  3.58603077e-01],\n",
       "       [-6.68105176e-01,  4.12593503e-01,  3.24994541e-01],\n",
       "       [ 7.76446555e-01, -1.75218593e-01, -5.15218854e-01],\n",
       "       [ 1.13758449e+00, -9.64308007e-01,  1.23242501e+00],\n",
       "       [ 4.15308623e-01,  7.96700996e-02,  5.61262548e-02],\n",
       "       [-6.68105176e-01, -2.57599255e-01,  3.58603077e-01],\n",
       "       [-3.06967243e-01, -6.79383141e-01,  9.29948186e-01],\n",
       "       [ 4.15308623e-01, -7.44429323e-01, -1.65790907e+00],\n",
       "       [ 1.49872242e+00,  1.48121544e+00, -1.22099811e+00],\n",
       "       [ 7.76446555e-01,  6.89727643e-01,  1.06438233e+00],\n",
       "       [ 1.49872242e+00, -6.42361343e-01, -1.22099811e+00],\n",
       "       [-1.75151897e+00, -1.38347049e+00,  7.95514043e-01],\n",
       "       [-1.02924311e+00, -1.56124033e+00, -7.16870069e-01],\n",
       "       [ 1.49872242e+00,  4.76681377e-05,  1.50129330e+00],\n",
       "       [ 5.41706899e-02,  6.69123639e-01, -1.55708346e+00],\n",
       "       [-6.68105176e-01,  4.02315040e-01, -3.80784711e-01],\n",
       "       [-3.06967243e-01, -5.19884206e-01,  1.36685915e+00],\n",
       "       [ 1.49872242e+00, -8.74568449e-01,  7.95514043e-01],\n",
       "       [-1.75151897e+00, -3.10153656e-01, -1.59069200e+00],\n",
       "       [-3.06967243e-01, -1.41934425e+00,  2.91386006e-01],\n",
       "       [ 5.41706899e-02,  8.82012185e-01,  1.23242501e+00],\n",
       "       [ 1.49872242e+00,  1.22011358e+00, -6.83261533e-01],\n",
       "       [ 4.15308623e-01, -1.00429859e+00,  9.29948186e-01],\n",
       "       [ 4.15308623e-01, -1.73688769e+00, -6.49652997e-01],\n",
       "       [ 4.15308623e-01, -1.38507828e+00,  1.46768476e+00],\n",
       "       [-1.02924311e+00,  1.18293463e+00, -8.51304212e-01],\n",
       "       [ 1.13758449e+00,  4.49679692e-01,  1.56851037e+00],\n",
       "       [ 7.76446555e-01,  8.78471628e-01, -1.69151761e+00],\n",
       "       [ 4.15308623e-01,  1.19424305e+00,  5.93862828e-01],\n",
       "       [-3.06967243e-01,  5.05844479e-01,  2.91386006e-01],\n",
       "       [ 7.76446555e-01, -1.43663025e+00,  5.61262548e-02],\n",
       "       [ 4.15308623e-01,  1.36219467e+00,  1.26603354e+00],\n",
       "       [ 7.76446555e-01, -1.64820092e+00,  9.97165258e-01],\n",
       "       [ 1.49872242e+00, -8.75060023e-01,  6.61079900e-01],\n",
       "       [ 4.15308623e-01, -1.96353442e-01,  1.29964208e+00],\n",
       "       [-1.02924311e+00,  2.46004117e-01,  7.95514043e-01],\n",
       "       [-3.06967243e-01, -1.18875727e+00,  4.93037220e-01],\n",
       "       [ 4.15308623e-01, -2.21146869e-01,  1.90560398e-01],\n",
       "       [ 1.49872242e+00, -1.01011283e+00,  6.94688435e-01],\n",
       "       [ 1.13758449e+00, -1.71661994e+00, -7.84087141e-01],\n",
       "       [-1.75151897e+00, -6.76234404e-01, -2.79959103e-01],\n",
       "       [ 1.13758449e+00,  1.27331832e-01,  1.26603354e+00],\n",
       "       [-1.75151897e+00, -1.71505253e+00,  4.25820149e-01],\n",
       "       [-6.68105176e-01, -1.38542471e+00,  8.62731114e-01],\n",
       "       [-1.02924311e+00,  6.11799665e-01, -1.42264932e+00],\n",
       "       [-1.39038104e+00,  8.89107537e-01,  1.90560398e-01],\n",
       "       [-1.75151897e+00,  9.58945836e-01,  9.63556722e-01],\n",
       "       [ 1.49872242e+00, -1.12528669e+00, -1.15378103e+00],\n",
       "       [ 5.41706899e-02, -1.45977297e+00,  1.53490183e+00],\n",
       "       [-6.68105176e-01, -1.15940439e+00, -8.51304212e-01],\n",
       "       [-1.75151897e+00,  1.38251926e+00, -1.42264932e+00],\n",
       "       [ 7.76446555e-01, -1.49556677e+00,  7.95514043e-01],\n",
       "       [ 4.15308623e-01,  1.43705389e+00, -5.15218854e-01],\n",
       "       [ 4.15308623e-01, -1.39426836e-01,  1.09799087e+00],\n",
       "       [ 7.76446555e-01,  4.36077460e-01, -1.38904079e+00],\n",
       "       [-1.39038104e+00, -3.34695704e-01, -8.84912748e-01],\n",
       "       [-6.68105176e-01,  1.40914279e+00, -7.83078885e-02],\n",
       "       [-6.68105176e-01,  5.88562839e-01, -2.46350568e-01],\n",
       "       [-1.02924311e+00,  8.69835718e-01,  4.93037220e-01],\n",
       "       [-1.02924311e+00,  1.11336488e+00, -1.65790907e+00],\n",
       "       [-3.06967243e-01,  6.99990649e-01, -1.45625786e+00],\n",
       "       [ 4.15308623e-01, -6.18837331e-02,  1.26603354e+00],\n",
       "       [-3.06967243e-01, -1.51459063e-01, -4.46993526e-02],\n",
       "       [ 1.13758449e+00, -1.44023776e+00, -8.84912748e-01],\n",
       "       [ 4.15308623e-01,  6.28491059e-01,  6.61079900e-01],\n",
       "       [-1.02924311e+00,  8.93507506e-01, -1.45625786e+00],\n",
       "       [ 1.49872242e+00, -7.94508920e-01, -1.22099811e+00],\n",
       "       [ 7.76446555e-01,  1.07581494e+00, -2.79959103e-01],\n",
       "       [ 7.76446555e-01, -4.92548945e-01,  5.26645756e-01],\n",
       "       [ 1.49872242e+00,  1.30068689e+00, -1.18738957e+00],\n",
       "       [-1.39038104e+00, -5.32711049e-01, -1.52347493e+00],\n",
       "       [ 5.41706899e-02, -1.33057272e+00, -1.18738957e+00],\n",
       "       [ 4.15308623e-01,  1.53277347e+00, -1.25460664e+00],\n",
       "       [ 1.49872242e+00, -1.42651759e+00, -1.32182371e+00],\n",
       "       [-6.68105176e-01, -3.42953271e-01, -1.32182371e+00],\n",
       "       [-1.39038104e+00, -4.51937468e-01,  1.56951862e-01],\n",
       "       [-6.68105176e-01, -1.49207211e+00,  6.61079900e-01],\n",
       "       [ 1.13758449e+00, -3.40100720e-01, -1.22099811e+00],\n",
       "       [ 1.49872242e+00,  5.81204783e-01, -2.79959103e-01],\n",
       "       [-3.06967243e-01, -3.50844843e-01, -4.48001782e-01],\n",
       "       [-1.75151897e+00,  1.46488942e+00,  8.96339650e-01],\n",
       "       [ 7.76446555e-01,  4.75958517e-01, -8.51304212e-01],\n",
       "       [-6.68105176e-01,  4.59468515e-02,  8.29122579e-01],\n",
       "       [-1.75151897e+00, -1.72275967e+00, -1.59069200e+00],\n",
       "       [ 1.13758449e+00,  1.54295120e+00,  1.23242501e+00],\n",
       "       [-3.06967243e-01, -9.75430427e-01, -1.59069200e+00],\n",
       "       [-3.06967243e-01,  1.10542591e+00, -1.45524960e-01],\n",
       "       [-3.06967243e-01,  1.26107523e+00, -1.05295543e+00],\n",
       "       [ 1.13758449e+00, -1.72055362e-01,  4.93037220e-01],\n",
       "       [-1.75151897e+00,  1.41294050e+00, -1.11916424e-01],\n",
       "       [ 1.13758449e+00, -7.19303332e-01, -1.59069200e+00],\n",
       "       [-6.68105176e-01,  3.49391848e-01, -5.15218854e-01],\n",
       "       [-1.02924311e+00,  1.20324341e-01, -9.85738356e-01],\n",
       "       [ 1.13758449e+00,  3.21180000e-01,  7.28296971e-01],\n",
       "       [-1.02924311e+00, -1.45882158e+00,  1.56851037e+00],\n",
       "       [-1.02924311e+00, -1.61239924e+00,  1.90560398e-01],\n",
       "       [-1.02924311e+00,  2.60236028e-01, -6.83261533e-01],\n",
       "       [ 1.13758449e+00,  6.68814088e-01,  2.25177190e-02],\n",
       "       [ 1.49872242e+00,  8.14733604e-01, -1.72512614e+00],\n",
       "       [-3.06967243e-01,  6.59566752e-01, -2.46350568e-01],\n",
       "       [ 1.49872242e+00,  1.21140212e+00,  1.19881647e+00],\n",
       "       [ 7.76446555e-01,  3.30514785e-01,  1.19881647e+00],\n",
       "       [ 7.76446555e-01, -1.24677367e+00,  5.60254292e-01],\n",
       "       [-1.02924311e+00,  5.74545495e-01,  4.93037220e-01],\n",
       "       [ 1.49872242e+00,  1.95969306e-01, -7.83078885e-02],\n",
       "       [-6.68105176e-01,  1.26392395e+00,  7.28296971e-01],\n",
       "       [ 1.13758449e+00, -6.91762165e-01,  9.63556722e-01],\n",
       "       [-3.06967243e-01,  5.61611822e-01,  1.33325062e+00],\n",
       "       [-6.68105176e-01, -1.00625574e+00,  1.90560398e-01],\n",
       "       [ 4.15308623e-01, -7.10026897e-01, -1.45625786e+00],\n",
       "       [ 5.41706899e-02,  1.32007929e+00, -4.81610318e-01],\n",
       "       [ 1.13758449e+00,  1.13673579e+00, -7.84087141e-01],\n",
       "       [-3.06967243e-01,  8.16819422e-01, -9.52129820e-01],\n",
       "       [ 7.76446555e-01,  1.23767978e+00,  8.97347906e-02],\n",
       "       [-3.06967243e-01,  1.33193430e+00,  9.29948186e-01],\n",
       "       [ 7.76446555e-01,  1.36108859e+00,  1.29964208e+00],\n",
       "       [-1.02924311e+00,  1.41096885e+00,  8.29122579e-01],\n",
       "       [-3.06967243e-01, -5.35542616e-01, -1.15378103e+00],\n",
       "       [-3.06967243e-01,  1.39530192e+00,  1.46768476e+00],\n",
       "       [ 1.49872242e+00,  1.03210729e+00, -1.22099811e+00]])"
      ]
     },
     "execution_count": 26,
     "metadata": {},
     "output_type": "execute_result"
    }
   ],
   "source": [
    "X_test = scaler.fit_transform(X_test)\n",
    "X_test"
   ]
  },
  {
   "cell_type": "code",
   "execution_count": 27,
   "id": "5ad028f8",
   "metadata": {},
   "outputs": [],
   "source": [
    "import numpy as np\n",
    "from sklearn.metrics import mean_squared_error, mean_absolute_error\n",
    "\n",
    "def results(predictions):\n",
    "    print(\"Mean absolute error on model is {}\", format(mean_absolute_error(y_test, predictions)))\n",
    "    print(\"Root mean squared error on model is {}\", format(np.sqrt(mean_squared_error(y_test, predictions))))"
   ]
  },
  {
   "cell_type": "code",
   "execution_count": 28,
   "id": "a74b1dd5",
   "metadata": {},
   "outputs": [
    {
     "data": {
      "text/html": [
       "<style>#sk-container-id-1 {color: black;background-color: white;}#sk-container-id-1 pre{padding: 0;}#sk-container-id-1 div.sk-toggleable {background-color: white;}#sk-container-id-1 label.sk-toggleable__label {cursor: pointer;display: block;width: 100%;margin-bottom: 0;padding: 0.3em;box-sizing: border-box;text-align: center;}#sk-container-id-1 label.sk-toggleable__label-arrow:before {content: \"▸\";float: left;margin-right: 0.25em;color: #696969;}#sk-container-id-1 label.sk-toggleable__label-arrow:hover:before {color: black;}#sk-container-id-1 div.sk-estimator:hover label.sk-toggleable__label-arrow:before {color: black;}#sk-container-id-1 div.sk-toggleable__content {max-height: 0;max-width: 0;overflow: hidden;text-align: left;background-color: #f0f8ff;}#sk-container-id-1 div.sk-toggleable__content pre {margin: 0.2em;color: black;border-radius: 0.25em;background-color: #f0f8ff;}#sk-container-id-1 input.sk-toggleable__control:checked~div.sk-toggleable__content {max-height: 200px;max-width: 100%;overflow: auto;}#sk-container-id-1 input.sk-toggleable__control:checked~label.sk-toggleable__label-arrow:before {content: \"▾\";}#sk-container-id-1 div.sk-estimator input.sk-toggleable__control:checked~label.sk-toggleable__label {background-color: #d4ebff;}#sk-container-id-1 div.sk-label input.sk-toggleable__control:checked~label.sk-toggleable__label {background-color: #d4ebff;}#sk-container-id-1 input.sk-hidden--visually {border: 0;clip: rect(1px 1px 1px 1px);clip: rect(1px, 1px, 1px, 1px);height: 1px;margin: -1px;overflow: hidden;padding: 0;position: absolute;width: 1px;}#sk-container-id-1 div.sk-estimator {font-family: monospace;background-color: #f0f8ff;border: 1px dotted black;border-radius: 0.25em;box-sizing: border-box;margin-bottom: 0.5em;}#sk-container-id-1 div.sk-estimator:hover {background-color: #d4ebff;}#sk-container-id-1 div.sk-parallel-item::after {content: \"\";width: 100%;border-bottom: 1px solid gray;flex-grow: 1;}#sk-container-id-1 div.sk-label:hover label.sk-toggleable__label {background-color: #d4ebff;}#sk-container-id-1 div.sk-serial::before {content: \"\";position: absolute;border-left: 1px solid gray;box-sizing: border-box;top: 0;bottom: 0;left: 50%;z-index: 0;}#sk-container-id-1 div.sk-serial {display: flex;flex-direction: column;align-items: center;background-color: white;padding-right: 0.2em;padding-left: 0.2em;position: relative;}#sk-container-id-1 div.sk-item {position: relative;z-index: 1;}#sk-container-id-1 div.sk-parallel {display: flex;align-items: stretch;justify-content: center;background-color: white;position: relative;}#sk-container-id-1 div.sk-item::before, #sk-container-id-1 div.sk-parallel-item::before {content: \"\";position: absolute;border-left: 1px solid gray;box-sizing: border-box;top: 0;bottom: 0;left: 50%;z-index: -1;}#sk-container-id-1 div.sk-parallel-item {display: flex;flex-direction: column;z-index: 1;position: relative;background-color: white;}#sk-container-id-1 div.sk-parallel-item:first-child::after {align-self: flex-end;width: 50%;}#sk-container-id-1 div.sk-parallel-item:last-child::after {align-self: flex-start;width: 50%;}#sk-container-id-1 div.sk-parallel-item:only-child::after {width: 0;}#sk-container-id-1 div.sk-dashed-wrapped {border: 1px dashed gray;margin: 0 0.4em 0.5em 0.4em;box-sizing: border-box;padding-bottom: 0.4em;background-color: white;}#sk-container-id-1 div.sk-label label {font-family: monospace;font-weight: bold;display: inline-block;line-height: 1.2em;}#sk-container-id-1 div.sk-label-container {text-align: center;}#sk-container-id-1 div.sk-container {/* jupyter's `normalize.less` sets `[hidden] { display: none; }` but bootstrap.min.css set `[hidden] { display: none !important; }` so we also need the `!important` here to be able to override the default hidden behavior on the sphinx rendered scikit-learn.org. See: https://github.com/scikit-learn/scikit-learn/issues/21755 */display: inline-block !important;position: relative;}#sk-container-id-1 div.sk-text-repr-fallback {display: none;}</style><div id=\"sk-container-id-1\" class=\"sk-top-container\"><div class=\"sk-text-repr-fallback\"><pre>LinearRegression()</pre><b>In a Jupyter environment, please rerun this cell to show the HTML representation or trust the notebook. <br />On GitHub, the HTML representation is unable to render, please try loading this page with nbviewer.org.</b></div><div class=\"sk-container\" hidden><div class=\"sk-item\"><div class=\"sk-estimator sk-toggleable\"><input class=\"sk-toggleable__control sk-hidden--visually\" id=\"sk-estimator-id-1\" type=\"checkbox\" checked><label for=\"sk-estimator-id-1\" class=\"sk-toggleable__label sk-toggleable__label-arrow\">LinearRegression</label><div class=\"sk-toggleable__content\"><pre>LinearRegression()</pre></div></div></div></div></div>"
      ],
      "text/plain": [
       "LinearRegression()"
      ]
     },
     "execution_count": 28,
     "metadata": {},
     "output_type": "execute_result"
    }
   ],
   "source": [
    "from sklearn.linear_model import LinearRegression\n",
    "lr = LinearRegression()\n",
    "lr.fit(X_train, y_train)"
   ]
  },
  {
   "cell_type": "code",
   "execution_count": 29,
   "id": "78392792",
   "metadata": {},
   "outputs": [],
   "source": [
    "predictionlr=lr.predict(X_test)"
   ]
  },
  {
   "cell_type": "code",
   "execution_count": 30,
   "id": "8ac1f823",
   "metadata": {},
   "outputs": [
    {
     "name": "stdout",
     "output_type": "stream",
     "text": [
      "Mean absolute error on model is {} 17597.036632278832\n",
      "Root mean squared error on model is {} 20510.503531250604\n"
     ]
    }
   ],
   "source": [
    "results(predictionlr)"
   ]
  },
  {
   "cell_type": "code",
   "execution_count": 31,
   "id": "d2e5e5c3",
   "metadata": {},
   "outputs": [],
   "source": [
    "from sklearn.model_selection import GridSearchCV\n",
    "from sklearn.svm import SVR"
   ]
  },
  {
   "cell_type": "code",
   "execution_count": 32,
   "id": "2603c4da",
   "metadata": {},
   "outputs": [],
   "source": [
    "svrmodel = SVR()"
   ]
  },
  {
   "cell_type": "code",
   "execution_count": 33,
   "id": "2181944f",
   "metadata": {},
   "outputs": [],
   "source": [
    "param_gridsvr = {\n",
    "    'C': [0.1, 1, 10], \n",
    "    'epsilon': [0.1, 0.2, 0.5],\n",
    "    'kernel': ['linear', 'poly', 'rbf'],\n",
    "    'degree': [2, 3, 4],\n",
    "}"
   ]
  },
  {
   "cell_type": "code",
   "execution_count": 34,
   "id": "af82ff58",
   "metadata": {},
   "outputs": [],
   "source": [
    "gridsvr = GridSearchCV(svrmodel, param_gridsvr)"
   ]
  },
  {
   "cell_type": "raw",
   "id": "4c039f08",
   "metadata": {},
   "source": [
    "gridsvr.fit(X_train, y_train.values.ravel())"
   ]
  },
  {
   "cell_type": "code",
   "execution_count": 35,
   "id": "dda5c903",
   "metadata": {},
   "outputs": [
    {
     "data": {
      "text/html": [
       "<style>#sk-container-id-2 {color: black;background-color: white;}#sk-container-id-2 pre{padding: 0;}#sk-container-id-2 div.sk-toggleable {background-color: white;}#sk-container-id-2 label.sk-toggleable__label {cursor: pointer;display: block;width: 100%;margin-bottom: 0;padding: 0.3em;box-sizing: border-box;text-align: center;}#sk-container-id-2 label.sk-toggleable__label-arrow:before {content: \"▸\";float: left;margin-right: 0.25em;color: #696969;}#sk-container-id-2 label.sk-toggleable__label-arrow:hover:before {color: black;}#sk-container-id-2 div.sk-estimator:hover label.sk-toggleable__label-arrow:before {color: black;}#sk-container-id-2 div.sk-toggleable__content {max-height: 0;max-width: 0;overflow: hidden;text-align: left;background-color: #f0f8ff;}#sk-container-id-2 div.sk-toggleable__content pre {margin: 0.2em;color: black;border-radius: 0.25em;background-color: #f0f8ff;}#sk-container-id-2 input.sk-toggleable__control:checked~div.sk-toggleable__content {max-height: 200px;max-width: 100%;overflow: auto;}#sk-container-id-2 input.sk-toggleable__control:checked~label.sk-toggleable__label-arrow:before {content: \"▾\";}#sk-container-id-2 div.sk-estimator input.sk-toggleable__control:checked~label.sk-toggleable__label {background-color: #d4ebff;}#sk-container-id-2 div.sk-label input.sk-toggleable__control:checked~label.sk-toggleable__label {background-color: #d4ebff;}#sk-container-id-2 input.sk-hidden--visually {border: 0;clip: rect(1px 1px 1px 1px);clip: rect(1px, 1px, 1px, 1px);height: 1px;margin: -1px;overflow: hidden;padding: 0;position: absolute;width: 1px;}#sk-container-id-2 div.sk-estimator {font-family: monospace;background-color: #f0f8ff;border: 1px dotted black;border-radius: 0.25em;box-sizing: border-box;margin-bottom: 0.5em;}#sk-container-id-2 div.sk-estimator:hover {background-color: #d4ebff;}#sk-container-id-2 div.sk-parallel-item::after {content: \"\";width: 100%;border-bottom: 1px solid gray;flex-grow: 1;}#sk-container-id-2 div.sk-label:hover label.sk-toggleable__label {background-color: #d4ebff;}#sk-container-id-2 div.sk-serial::before {content: \"\";position: absolute;border-left: 1px solid gray;box-sizing: border-box;top: 0;bottom: 0;left: 50%;z-index: 0;}#sk-container-id-2 div.sk-serial {display: flex;flex-direction: column;align-items: center;background-color: white;padding-right: 0.2em;padding-left: 0.2em;position: relative;}#sk-container-id-2 div.sk-item {position: relative;z-index: 1;}#sk-container-id-2 div.sk-parallel {display: flex;align-items: stretch;justify-content: center;background-color: white;position: relative;}#sk-container-id-2 div.sk-item::before, #sk-container-id-2 div.sk-parallel-item::before {content: \"\";position: absolute;border-left: 1px solid gray;box-sizing: border-box;top: 0;bottom: 0;left: 50%;z-index: -1;}#sk-container-id-2 div.sk-parallel-item {display: flex;flex-direction: column;z-index: 1;position: relative;background-color: white;}#sk-container-id-2 div.sk-parallel-item:first-child::after {align-self: flex-end;width: 50%;}#sk-container-id-2 div.sk-parallel-item:last-child::after {align-self: flex-start;width: 50%;}#sk-container-id-2 div.sk-parallel-item:only-child::after {width: 0;}#sk-container-id-2 div.sk-dashed-wrapped {border: 1px dashed gray;margin: 0 0.4em 0.5em 0.4em;box-sizing: border-box;padding-bottom: 0.4em;background-color: white;}#sk-container-id-2 div.sk-label label {font-family: monospace;font-weight: bold;display: inline-block;line-height: 1.2em;}#sk-container-id-2 div.sk-label-container {text-align: center;}#sk-container-id-2 div.sk-container {/* jupyter's `normalize.less` sets `[hidden] { display: none; }` but bootstrap.min.css set `[hidden] { display: none !important; }` so we also need the `!important` here to be able to override the default hidden behavior on the sphinx rendered scikit-learn.org. See: https://github.com/scikit-learn/scikit-learn/issues/21755 */display: inline-block !important;position: relative;}#sk-container-id-2 div.sk-text-repr-fallback {display: none;}</style><div id=\"sk-container-id-2\" class=\"sk-top-container\"><div class=\"sk-text-repr-fallback\"><pre>GridSearchCV(estimator=SVR(),\n",
       "             param_grid={&#x27;C&#x27;: [0.1, 1, 10], &#x27;degree&#x27;: [2, 3, 4],\n",
       "                         &#x27;epsilon&#x27;: [0.1, 0.2, 0.5],\n",
       "                         &#x27;kernel&#x27;: [&#x27;linear&#x27;, &#x27;poly&#x27;, &#x27;rbf&#x27;]})</pre><b>In a Jupyter environment, please rerun this cell to show the HTML representation or trust the notebook. <br />On GitHub, the HTML representation is unable to render, please try loading this page with nbviewer.org.</b></div><div class=\"sk-container\" hidden><div class=\"sk-item sk-dashed-wrapped\"><div class=\"sk-label-container\"><div class=\"sk-label sk-toggleable\"><input class=\"sk-toggleable__control sk-hidden--visually\" id=\"sk-estimator-id-2\" type=\"checkbox\" ><label for=\"sk-estimator-id-2\" class=\"sk-toggleable__label sk-toggleable__label-arrow\">GridSearchCV</label><div class=\"sk-toggleable__content\"><pre>GridSearchCV(estimator=SVR(),\n",
       "             param_grid={&#x27;C&#x27;: [0.1, 1, 10], &#x27;degree&#x27;: [2, 3, 4],\n",
       "                         &#x27;epsilon&#x27;: [0.1, 0.2, 0.5],\n",
       "                         &#x27;kernel&#x27;: [&#x27;linear&#x27;, &#x27;poly&#x27;, &#x27;rbf&#x27;]})</pre></div></div></div><div class=\"sk-parallel\"><div class=\"sk-parallel-item\"><div class=\"sk-item\"><div class=\"sk-label-container\"><div class=\"sk-label sk-toggleable\"><input class=\"sk-toggleable__control sk-hidden--visually\" id=\"sk-estimator-id-3\" type=\"checkbox\" ><label for=\"sk-estimator-id-3\" class=\"sk-toggleable__label sk-toggleable__label-arrow\">estimator: SVR</label><div class=\"sk-toggleable__content\"><pre>SVR()</pre></div></div></div><div class=\"sk-serial\"><div class=\"sk-item\"><div class=\"sk-estimator sk-toggleable\"><input class=\"sk-toggleable__control sk-hidden--visually\" id=\"sk-estimator-id-4\" type=\"checkbox\" ><label for=\"sk-estimator-id-4\" class=\"sk-toggleable__label sk-toggleable__label-arrow\">SVR</label><div class=\"sk-toggleable__content\"><pre>SVR()</pre></div></div></div></div></div></div></div></div></div></div>"
      ],
      "text/plain": [
       "GridSearchCV(estimator=SVR(),\n",
       "             param_grid={'C': [0.1, 1, 10], 'degree': [2, 3, 4],\n",
       "                         'epsilon': [0.1, 0.2, 0.5],\n",
       "                         'kernel': ['linear', 'poly', 'rbf']})"
      ]
     },
     "execution_count": 35,
     "metadata": {},
     "output_type": "execute_result"
    }
   ],
   "source": [
    "gridsvr.fit(X_train, y_train.values.ravel())"
   ]
  },
  {
   "cell_type": "code",
   "execution_count": 37,
   "id": "ae24bae2",
   "metadata": {},
   "outputs": [
    {
     "data": {
      "text/plain": [
       "{'C': 10, 'degree': 2, 'epsilon': 0.5, 'kernel': 'linear'}"
      ]
     },
     "execution_count": 37,
     "metadata": {},
     "output_type": "execute_result"
    }
   ],
   "source": [
    "gridsvr.best_params_"
   ]
  },
  {
   "cell_type": "code",
   "execution_count": 39,
   "id": "2c3ed3ca",
   "metadata": {},
   "outputs": [],
   "source": [
    "from sklearn.ensemble import RandomForestRegressor\n",
    "from sklearn.model_selection import GridSearchCV\n",
    "rfmodel = RandomForestRegressor()"
   ]
  },
  {
   "cell_type": "code",
   "execution_count": 50,
   "id": "47155643",
   "metadata": {},
   "outputs": [],
   "source": [
    "param_gridrfr = {\n",
    "    'n_estimators': [2,3,4,5,6],\n",
    "    'max_depth': [5,10,15]\n",
    "}"
   ]
  },
  {
   "cell_type": "code",
   "execution_count": 51,
   "id": "63b91570",
   "metadata": {},
   "outputs": [],
   "source": [
    "gridrfr = GridSearchCV(estimator=rfmodel, param_grid=param_gridrfr, cv=5)"
   ]
  },
  {
   "cell_type": "code",
   "execution_count": 52,
   "id": "381618ea",
   "metadata": {},
   "outputs": [
    {
     "data": {
      "image/png": "[encoded data removed]",
      "text/plain": [
       "<Figure size 800x500 with 2 Axes>"
      ]
     },
     "metadata": {},
     "output_type": "display_data"
    }
   ],
   "source": [
    "import seaborn as sns\n",
    "import matplotlib.pyplot as plt\n",
    "plt.figure(figsize=(8,5))\n",
    "numeric_df = df.select_dtypes(include=['number'])\n",
    "sns.heatmap(numeric_df.corr(), annot=True, cmap='Oranges')\n",
    "plt.show()"
   ]
  },
  {
   "cell_type": "code",
   "execution_count": 53,
   "id": "69c9d327",
   "metadata": {},
   "outputs": [
    {
     "data": {
      "text/html": [
       "<style>#sk-container-id-3 {color: black;background-color: white;}#sk-container-id-3 pre{padding: 0;}#sk-container-id-3 div.sk-toggleable {background-color: white;}#sk-container-id-3 label.sk-toggleable__label {cursor: pointer;display: block;width: 100%;margin-bottom: 0;padding: 0.3em;box-sizing: border-box;text-align: center;}#sk-container-id-3 label.sk-toggleable__label-arrow:before {content: \"▸\";float: left;margin-right: 0.25em;color: #696969;}#sk-container-id-3 label.sk-toggleable__label-arrow:hover:before {color: black;}#sk-container-id-3 div.sk-estimator:hover label.sk-toggleable__label-arrow:before {color: black;}#sk-container-id-3 div.sk-toggleable__content {max-height: 0;max-width: 0;overflow: hidden;text-align: left;background-color: #f0f8ff;}#sk-container-id-3 div.sk-toggleable__content pre {margin: 0.2em;color: black;border-radius: 0.25em;background-color: #f0f8ff;}#sk-container-id-3 input.sk-toggleable__control:checked~div.sk-toggleable__content {max-height: 200px;max-width: 100%;overflow: auto;}#sk-container-id-3 input.sk-toggleable__control:checked~label.sk-toggleable__label-arrow:before {content: \"▾\";}#sk-container-id-3 div.sk-estimator input.sk-toggleable__control:checked~label.sk-toggleable__label {background-color: #d4ebff;}#sk-container-id-3 div.sk-label input.sk-toggleable__control:checked~label.sk-toggleable__label {background-color: #d4ebff;}#sk-container-id-3 input.sk-hidden--visually {border: 0;clip: rect(1px 1px 1px 1px);clip: rect(1px, 1px, 1px, 1px);height: 1px;margin: -1px;overflow: hidden;padding: 0;position: absolute;width: 1px;}#sk-container-id-3 div.sk-estimator {font-family: monospace;background-color: #f0f8ff;border: 1px dotted black;border-radius: 0.25em;box-sizing: border-box;margin-bottom: 0.5em;}#sk-container-id-3 div.sk-estimator:hover {background-color: #d4ebff;}#sk-container-id-3 div.sk-parallel-item::after {content: \"\";width: 100%;border-bottom: 1px solid gray;flex-grow: 1;}#sk-container-id-3 div.sk-label:hover label.sk-toggleable__label {background-color: #d4ebff;}#sk-container-id-3 div.sk-serial::before {content: \"\";position: absolute;border-left: 1px solid gray;box-sizing: border-box;top: 0;bottom: 0;left: 50%;z-index: 0;}#sk-container-id-3 div.sk-serial {display: flex;flex-direction: column;align-items: center;background-color: white;padding-right: 0.2em;padding-left: 0.2em;position: relative;}#sk-container-id-3 div.sk-item {position: relative;z-index: 1;}#sk-container-id-3 div.sk-parallel {display: flex;align-items: stretch;justify-content: center;background-color: white;position: relative;}#sk-container-id-3 div.sk-item::before, #sk-container-id-3 div.sk-parallel-item::before {content: \"\";position: absolute;border-left: 1px solid gray;box-sizing: border-box;top: 0;bottom: 0;left: 50%;z-index: -1;}#sk-container-id-3 div.sk-parallel-item {display: flex;flex-direction: column;z-index: 1;position: relative;background-color: white;}#sk-container-id-3 div.sk-parallel-item:first-child::after {align-self: flex-end;width: 50%;}#sk-container-id-3 div.sk-parallel-item:last-child::after {align-self: flex-start;width: 50%;}#sk-container-id-3 div.sk-parallel-item:only-child::after {width: 0;}#sk-container-id-3 div.sk-dashed-wrapped {border: 1px dashed gray;margin: 0 0.4em 0.5em 0.4em;box-sizing: border-box;padding-bottom: 0.4em;background-color: white;}#sk-container-id-3 div.sk-label label {font-family: monospace;font-weight: bold;display: inline-block;line-height: 1.2em;}#sk-container-id-3 div.sk-label-container {text-align: center;}#sk-container-id-3 div.sk-container {/* jupyter's `normalize.less` sets `[hidden] { display: none; }` but bootstrap.min.css set `[hidden] { display: none !important; }` so we also need the `!important` here to be able to override the default hidden behavior on the sphinx rendered scikit-learn.org. See: https://github.com/scikit-learn/scikit-learn/issues/21755 */display: inline-block !important;position: relative;}#sk-container-id-3 div.sk-text-repr-fallback {display: none;}</style><div id=\"sk-container-id-3\" class=\"sk-top-container\"><div class=\"sk-text-repr-fallback\"><pre>GridSearchCV(cv=5, estimator=RandomForestRegressor(),\n",
       "             param_grid={&#x27;max_depth&#x27;: [5, 10, 15],\n",
       "                         &#x27;n_estimators&#x27;: [2, 3, 4, 5, 6]})</pre><b>In a Jupyter environment, please rerun this cell to show the HTML representation or trust the notebook. <br />On GitHub, the HTML representation is unable to render, please try loading this page with nbviewer.org.</b></div><div class=\"sk-container\" hidden><div class=\"sk-item sk-dashed-wrapped\"><div class=\"sk-label-container\"><div class=\"sk-label sk-toggleable\"><input class=\"sk-toggleable__control sk-hidden--visually\" id=\"sk-estimator-id-5\" type=\"checkbox\" ><label for=\"sk-estimator-id-5\" class=\"sk-toggleable__label sk-toggleable__label-arrow\">GridSearchCV</label><div class=\"sk-toggleable__content\"><pre>GridSearchCV(cv=5, estimator=RandomForestRegressor(),\n",
       "             param_grid={&#x27;max_depth&#x27;: [5, 10, 15],\n",
       "                         &#x27;n_estimators&#x27;: [2, 3, 4, 5, 6]})</pre></div></div></div><div class=\"sk-parallel\"><div class=\"sk-parallel-item\"><div class=\"sk-item\"><div class=\"sk-label-container\"><div class=\"sk-label sk-toggleable\"><input class=\"sk-toggleable__control sk-hidden--visually\" id=\"sk-estimator-id-6\" type=\"checkbox\" ><label for=\"sk-estimator-id-6\" class=\"sk-toggleable__label sk-toggleable__label-arrow\">estimator: RandomForestRegressor</label><div class=\"sk-toggleable__content\"><pre>RandomForestRegressor()</pre></div></div></div><div class=\"sk-serial\"><div class=\"sk-item\"><div class=\"sk-estimator sk-toggleable\"><input class=\"sk-toggleable__control sk-hidden--visually\" id=\"sk-estimator-id-7\" type=\"checkbox\" ><label for=\"sk-estimator-id-7\" class=\"sk-toggleable__label sk-toggleable__label-arrow\">RandomForestRegressor</label><div class=\"sk-toggleable__content\"><pre>RandomForestRegressor()</pre></div></div></div></div></div></div></div></div></div></div>"
      ],
      "text/plain": [
       "GridSearchCV(cv=5, estimator=RandomForestRegressor(),\n",
       "             param_grid={'max_depth': [5, 10, 15],\n",
       "                         'n_estimators': [2, 3, 4, 5, 6]})"
      ]
     },
     "execution_count": 53,
     "metadata": {},
     "output_type": "execute_result"
    }
   ],
   "source": [
    "gridrfr.fit(X_train, y_train.values.ravel())"
   ]
  },
  {
   "cell_type": "code",
   "execution_count": 54,
   "id": "5abd08c5",
   "metadata": {},
   "outputs": [
    {
     "data": {
      "text/plain": [
       "{'max_depth': 5, 'n_estimators': 5}"
      ]
     },
     "execution_count": 54,
     "metadata": {},
     "output_type": "execute_result"
    }
   ],
   "source": [
    "gridrfr.best_params_"
   ]
  },
  {
   "cell_type": "code",
   "execution_count": 56,
   "id": "d1f26a94",
   "metadata": {},
   "outputs": [],
   "source": [
    "predictionofrfr = gridrfr.predict(X_test)"
   ]
  },
  {
   "cell_type": "code",
   "execution_count": 57,
   "id": "14227b5e",
   "metadata": {},
   "outputs": [
    {
     "name": "stdout",
     "output_type": "stream",
     "text": [
      "Mean absolute error on model is {} 18224.18553101191\n",
      "Root mean squared error on model is {} 21619.255578484936\n"
     ]
    }
   ],
   "source": [
    "results(predictionofrfr)"
   ]
  },
  {
   "cell_type": "code",
   "execution_count": 58,
   "id": "787f4810",
   "metadata": {},
   "outputs": [
    {
     "data": {
      "text/html": [
       "<style>#sk-container-id-4 {color: black;background-color: white;}#sk-container-id-4 pre{padding: 0;}#sk-container-id-4 div.sk-toggleable {background-color: white;}#sk-container-id-4 label.sk-toggleable__label {cursor: pointer;display: block;width: 100%;margin-bottom: 0;padding: 0.3em;box-sizing: border-box;text-align: center;}#sk-container-id-4 label.sk-toggleable__label-arrow:before {content: \"▸\";float: left;margin-right: 0.25em;color: #696969;}#sk-container-id-4 label.sk-toggleable__label-arrow:hover:before {color: black;}#sk-container-id-4 div.sk-estimator:hover label.sk-toggleable__label-arrow:before {color: black;}#sk-container-id-4 div.sk-toggleable__content {max-height: 0;max-width: 0;overflow: hidden;text-align: left;background-color: #f0f8ff;}#sk-container-id-4 div.sk-toggleable__content pre {margin: 0.2em;color: black;border-radius: 0.25em;background-color: #f0f8ff;}#sk-container-id-4 input.sk-toggleable__control:checked~div.sk-toggleable__content {max-height: 200px;max-width: 100%;overflow: auto;}#sk-container-id-4 input.sk-toggleable__control:checked~label.sk-toggleable__label-arrow:before {content: \"▾\";}#sk-container-id-4 div.sk-estimator input.sk-toggleable__control:checked~label.sk-toggleable__label {background-color: #d4ebff;}#sk-container-id-4 div.sk-label input.sk-toggleable__control:checked~label.sk-toggleable__label {background-color: #d4ebff;}#sk-container-id-4 input.sk-hidden--visually {border: 0;clip: rect(1px 1px 1px 1px);clip: rect(1px, 1px, 1px, 1px);height: 1px;margin: -1px;overflow: hidden;padding: 0;position: absolute;width: 1px;}#sk-container-id-4 div.sk-estimator {font-family: monospace;background-color: #f0f8ff;border: 1px dotted black;border-radius: 0.25em;box-sizing: border-box;margin-bottom: 0.5em;}#sk-container-id-4 div.sk-estimator:hover {background-color: #d4ebff;}#sk-container-id-4 div.sk-parallel-item::after {content: \"\";width: 100%;border-bottom: 1px solid gray;flex-grow: 1;}#sk-container-id-4 div.sk-label:hover label.sk-toggleable__label {background-color: #d4ebff;}#sk-container-id-4 div.sk-serial::before {content: \"\";position: absolute;border-left: 1px solid gray;box-sizing: border-box;top: 0;bottom: 0;left: 50%;z-index: 0;}#sk-container-id-4 div.sk-serial {display: flex;flex-direction: column;align-items: center;background-color: white;padding-right: 0.2em;padding-left: 0.2em;position: relative;}#sk-container-id-4 div.sk-item {position: relative;z-index: 1;}#sk-container-id-4 div.sk-parallel {display: flex;align-items: stretch;justify-content: center;background-color: white;position: relative;}#sk-container-id-4 div.sk-item::before, #sk-container-id-4 div.sk-parallel-item::before {content: \"\";position: absolute;border-left: 1px solid gray;box-sizing: border-box;top: 0;bottom: 0;left: 50%;z-index: -1;}#sk-container-id-4 div.sk-parallel-item {display: flex;flex-direction: column;z-index: 1;position: relative;background-color: white;}#sk-container-id-4 div.sk-parallel-item:first-child::after {align-self: flex-end;width: 50%;}#sk-container-id-4 div.sk-parallel-item:last-child::after {align-self: flex-start;width: 50%;}#sk-container-id-4 div.sk-parallel-item:only-child::after {width: 0;}#sk-container-id-4 div.sk-dashed-wrapped {border: 1px dashed gray;margin: 0 0.4em 0.5em 0.4em;box-sizing: border-box;padding-bottom: 0.4em;background-color: white;}#sk-container-id-4 div.sk-label label {font-family: monospace;font-weight: bold;display: inline-block;line-height: 1.2em;}#sk-container-id-4 div.sk-label-container {text-align: center;}#sk-container-id-4 div.sk-container {/* jupyter's `normalize.less` sets `[hidden] { display: none; }` but bootstrap.min.css set `[hidden] { display: none !important; }` so we also need the `!important` here to be able to override the default hidden behavior on the sphinx rendered scikit-learn.org. See: https://github.com/scikit-learn/scikit-learn/issues/21755 */display: inline-block !important;position: relative;}#sk-container-id-4 div.sk-text-repr-fallback {display: none;}</style><div id=\"sk-container-id-4\" class=\"sk-top-container\"><div class=\"sk-text-repr-fallback\"><pre>LinearRegression()</pre><b>In a Jupyter environment, please rerun this cell to show the HTML representation or trust the notebook. <br />On GitHub, the HTML representation is unable to render, please try loading this page with nbviewer.org.</b></div><div class=\"sk-container\" hidden><div class=\"sk-item\"><div class=\"sk-estimator sk-toggleable\"><input class=\"sk-toggleable__control sk-hidden--visually\" id=\"sk-estimator-id-8\" type=\"checkbox\" checked><label for=\"sk-estimator-id-8\" class=\"sk-toggleable__label sk-toggleable__label-arrow\">LinearRegression</label><div class=\"sk-toggleable__content\"><pre>LinearRegression()</pre></div></div></div></div></div>"
      ],
      "text/plain": [
       "LinearRegression()"
      ]
     },
     "execution_count": 58,
     "metadata": {},
     "output_type": "execute_result"
    }
   ],
   "source": [
    "lr"
   ]
  },
  {
   "cell_type": "code",
   "execution_count": 59,
   "id": "9f902d36",
   "metadata": {},
   "outputs": [
    {
     "data": {
      "text/plain": [
       "['model.pkl']"
      ]
     },
     "execution_count": 59,
     "metadata": {},
     "output_type": "execute_result"
    }
   ],
   "source": [
    "joblib.dump(lr, 'model.pkl')"
   ]
  },
  {
   "cell_type": "code",
   "execution_count": 63,
   "id": "b8419150",
   "metadata": {},
   "outputs": [
    {
     "data": {
      "image/png": "[encoded data removed]",
      "text/plain": [
       "<Figure size 500x400 with 2 Axes>"
      ]
     },
     "metadata": {},
     "output_type": "display_data"
    }
   ],
   "source": [
    "from sklearn.metrics import confusion_matrix \n",
    "import matplotlib.pyplot as plt\n",
    "\n",
    "import seaborn as sns\n",
    "\n",
    "#Example: y true actual labels, y pred predicted labels\n",
    "\n",
    "y_true=[0, 1, 0, 1, 0, 1, 1, 0]\n",
    "\n",
    "y_pred=[0, 1, 0, 0, 0, 1, 1, 1]\n",
    "\n",
    "cm=confusion_matrix(y_true, y_pred)\n",
    "\n",
    "plt.figure(figsize=(5,4)) \n",
    "sns.heatmap(cm, annot=True, fmt='d', cmap='Blues') \n",
    "plt.xlabel(\"Predicted\")\n",
    "plt.ylabel('Actual') \n",
    "\n",
    "plt.title('Confusion Matrix')\n",
    "plt.show()"
   ]
  },
  {
   "cell_type": "code",
   "execution_count": 64,
   "id": "e8bb3e78",
   "metadata": {},
   "outputs": [
    {
     "data": {
      "text/plain": [
       "Index(['Years_at_Company', 'Satisfaction_Level', 'Average_Monthly_Hours'], dtype='object')"
      ]
     },
     "execution_count": 64,
     "metadata": {},
     "output_type": "execute_result"
    }
   ],
   "source": [
    "X.columns"
   ]
  },
  {
   "cell_type": "code",
   "execution_count": null,
   "id": "fb134813",
   "metadata": {},
   "outputs": [],
   "source": []
  }
 ],
 "metadata": {
  "kernelspec": {
   "display_name": "Python 3 (ipykernel)",
   "language": "python",
   "name": "python3"
  },
  "language_info": {
   "codemirror_mode": {
    "name": "ipython",
    "version": 3
   },
   "file_extension": ".py",
   "mimetype": "text/x-python",
   "name": "python",
   "nbconvert_exporter": "python",
   "pygments_lexer": "ipython3",
   "version": "3.11.3"
  }
 },
 "nbformat": 4,
 "nbformat_minor": 5
}
